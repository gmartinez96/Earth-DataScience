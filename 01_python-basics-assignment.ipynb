{
 "cells": [
  {
   "cell_type": "markdown",
   "metadata": {},
   "source": [
    "# Assignment: Basic Python"
   ]
  },
  {
   "cell_type": "markdown",
   "metadata": {},
   "source": [
    "This assignment will verify that you have the following skills:\n",
    "\n",
    "- Create lists and dictionaries\n",
    "\n",
    "- Iterate through lists, tuples, and dictionaries\n",
    "\n",
    "- Index sequences (e.g. lists and tuples)\n",
    "\n",
    "- Define functions\n",
    "\n",
    "- Use optional keyword arguments in functions"
   ]
  },
  {
   "cell_type": "markdown",
   "metadata": {},
   "source": [
    "## **Part I: Lists and Loops**\n",
    "### 1) Create a list with the names of every planet in the solar system (in order)"
   ]
  },
  {
   "cell_type": "code",
   "execution_count": 1,
   "metadata": {},
   "outputs": [],
   "source": [
    "planets = [\n",
    "    \"Mercury\",\n",
    "    \"Venus\",\n",
    "    \"Earth\",\n",
    "    \"Mars\",\n",
    "    \"Jupiter\",\n",
    "    \"Saturn\",\n",
    "    \"Uranus\",\n",
    "    \"Neptune\",\n",
    "]"
   ]
  },
  {
   "cell_type": "markdown",
   "metadata": {},
   "source": [
    "### 2) Have Python tell you how many planets there are by examining your list"
   ]
  },
  {
   "cell_type": "code",
   "execution_count": 2,
   "metadata": {},
   "outputs": [
    {
     "data": {
      "text/plain": [
       "8"
      ]
     },
     "execution_count": 2,
     "metadata": {},
     "output_type": "execute_result"
    }
   ],
   "source": [
    "len(planets)"
   ]
  },
  {
   "cell_type": "markdown",
   "metadata": {},
   "source": [
    "### 3) Use slicing to display the first four planets (the rocky planets)"
   ]
  },
  {
   "cell_type": "code",
   "execution_count": 3,
   "metadata": {},
   "outputs": [
    {
     "data": {
      "text/plain": [
       "['Mercury', 'Venus', 'Earth', 'Mars']"
      ]
     },
     "execution_count": 3,
     "metadata": {},
     "output_type": "execute_result"
    }
   ],
   "source": [
    "planets[:4]"
   ]
  },
  {
   "cell_type": "markdown",
   "metadata": {},
   "source": [
    "### 4) Iterate through your planets and print the planet name only if it has an s at the end"
   ]
  },
  {
   "cell_type": "code",
   "execution_count": 4,
   "metadata": {},
   "outputs": [
    {
     "name": "stdout",
     "output_type": "stream",
     "text": [
      "Venus\n",
      "Mars\n",
      "Uranus\n"
     ]
    }
   ],
   "source": [
    "for planet in planets:\n",
    "    if \"s\" in planet[-1]:\n",
    "        print(planet)"
   ]
  },
  {
   "cell_type": "markdown",
   "metadata": {},
   "source": [
    "## **Part II: Dictionaries**"
   ]
  },
  {
   "cell_type": "markdown",
   "metadata": {},
   "source": [
    "### 1) Now create a dictionary that maps each planet name to its mass"
   ]
  },
  {
   "cell_type": "markdown",
   "metadata": {},
   "source": [
    "             MERCURY \t VENUS \t EARTH \t MOON \t MARS \t JUPITER \t SATURN \t URANUS \t NEPTUNE \t PLUTO \n",
    "Mass (1024kg)\t0.330\t4.87\t5.97\t0.073\t0.642\t1898\t568\t86.8\t102\t0.0130"
   ]
  },
  {
   "cell_type": "code",
   "execution_count": 5,
   "metadata": {},
   "outputs": [],
   "source": [
    "mass = [0.330, 4.87, 5.97, 0.073, 0.642, 1898, 568, 86.8, 102]\n",
    "planets_mass = dict(zip(planets, mass))"
   ]
  },
  {
   "cell_type": "code",
   "execution_count": 6,
   "metadata": {},
   "outputs": [
    {
     "data": {
      "text/plain": [
       "{'Mercury': 0.33,\n",
       " 'Venus': 4.87,\n",
       " 'Earth': 5.97,\n",
       " 'Mars': 0.073,\n",
       " 'Jupiter': 0.642,\n",
       " 'Saturn': 1898,\n",
       " 'Uranus': 568,\n",
       " 'Neptune': 86.8}"
      ]
     },
     "execution_count": 6,
     "metadata": {},
     "output_type": "execute_result"
    }
   ],
   "source": [
    "planet_dict = {planets[i]: mass[i] for i in range(len(planets))}\n",
    "planet_dict"
   ]
  },
  {
   "cell_type": "markdown",
   "metadata": {},
   "source": [
    "### 2) Use your dictionary to look up Earth’s mass\n"
   ]
  },
  {
   "cell_type": "code",
   "execution_count": 7,
   "metadata": {},
   "outputs": [
    {
     "name": "stdout",
     "output_type": "stream",
     "text": [
      "The planet Earth Mass is 5.97 10^24 kg\n"
     ]
    }
   ],
   "source": [
    "print(f\"The planet Earth Mass is {planet_dict['Earth']} 10^24 kg\")"
   ]
  },
  {
   "cell_type": "markdown",
   "metadata": {},
   "source": [
    "### 3) Loop through the data and create a list of planets whose mast is greater than 100 x 10^24 kg and Display your result\n"
   ]
  },
  {
   "cell_type": "code",
   "execution_count": 8,
   "metadata": {},
   "outputs": [
    {
     "data": {
      "text/plain": [
       "['Saturn', 'Uranus']"
      ]
     },
     "execution_count": 8,
     "metadata": {},
     "output_type": "execute_result"
    }
   ],
   "source": [
    "heavy_planets = []\n",
    "for key, value in planet_dict.items():\n",
    "    if value > 100:\n",
    "        heavy_planets.append(key)\n",
    "heavy_planets"
   ]
  },
  {
   "cell_type": "markdown",
   "metadata": {},
   "source": [
    "\n",
    "### 4) Now add pluto to your dictionary"
   ]
  },
  {
   "cell_type": "code",
   "execution_count": 11,
   "metadata": {},
   "outputs": [
    {
     "data": {
      "text/plain": [
       "0.013"
      ]
     },
     "execution_count": 11,
     "metadata": {},
     "output_type": "execute_result"
    }
   ],
   "source": [
    "planet_dict[\"Pluto\"] = 0.0130\n",
    "planet_dict[\"Pluto\"]"
   ]
  },
  {
   "cell_type": "markdown",
   "metadata": {},
   "source": [
    "## Part III: Functions\n"
   ]
  },
  {
   "cell_type": "markdown",
   "metadata": {},
   "source": [
    "### 1. Write a function to convert temperature from kelvin to celsius and celsius to kelvin\n"
   ]
  },
  {
   "cell_type": "code",
   "execution_count": 13,
   "metadata": {},
   "outputs": [
    {
     "data": {
      "text/plain": [
       "298"
      ]
     },
     "execution_count": 13,
     "metadata": {},
     "output_type": "execute_result"
    }
   ],
   "source": [
    "def celsius_to_kevin(t: float, unit: str) -> float:\n",
    "    \"\"\"Converts temperature from Kelvin to Celsius and Celsius to Kevin\n",
    "    Input: t -> temperatura\n",
    "    settings: unit -> string that defines if you want to convert from Kelvin or Celsius\n",
    "    \"\"\"\n",
    "    if unit == \"k\" or unit == \"Kelvin\" or unit == \"K\":\n",
    "        return t - 273\n",
    "    elif unit == \"c\" or unit == \"Celsius\" or unit == \"C\":\n",
    "        return t + 273\n",
    "\n",
    "\n",
    "celsius_to_kevin(25, \"c\")"
   ]
  },
  {
   "cell_type": "markdown",
   "metadata": {},
   "source": [
    "\n",
    "### 2. Write a function to convert temperature to fahrenheit Include an optional keyword argument to specify whether the input is in celcius or kelvin\n",
    "Call your previously defined functions if necessary.\n"
   ]
  },
  {
   "cell_type": "code",
   "execution_count": 40,
   "metadata": {},
   "outputs": [],
   "source": [
    "def to_fahrenheit(t: float, unit: str) -> float:\n",
    "    \"\"\"Converts temperature from Kelvin or Celsius to Fahrenheit\n",
    "    Input: t -> temperatura\n",
    "    settings: unit -> string that defines if you want to convert from Kelvin or Celsius\n",
    "    \"\"\"\n",
    "    if unit == \"k\" or unit == \"Kelvin\" or unit == \"K\":\n",
    "        return round((t - 273.15) * 1.8 + 32, 2)\n",
    "    elif unit == \"c\" or unit == \"Celsius\" or unit == \"C\":\n",
    "        return round((t * 1.8) + 32, 2)"
   ]
  },
  {
   "cell_type": "markdown",
   "metadata": {},
   "source": [
    "\n",
    "### 3) Check that the outputs are sensible by trying a few examples\n"
   ]
  },
  {
   "cell_type": "code",
   "execution_count": 38,
   "metadata": {},
   "outputs": [
    {
     "data": {
      "text/plain": [
       "77.0"
      ]
     },
     "execution_count": 38,
     "metadata": {},
     "output_type": "execute_result"
    }
   ],
   "source": [
    "t = 25\n",
    "fahrenheit(t, \"c\")"
   ]
  },
  {
   "cell_type": "code",
   "execution_count": 39,
   "metadata": {},
   "outputs": [
    {
     "data": {
      "text/plain": [
       "78.53"
      ]
     },
     "execution_count": 39,
     "metadata": {},
     "output_type": "execute_result"
    }
   ],
   "source": [
    "t = 299\n",
    "fahrenheit(t, \"k\")"
   ]
  },
  {
   "cell_type": "markdown",
   "metadata": {},
   "source": [
    "\n",
    "### 4) Now write a function that converts from farenheit and uses a keyword argument to specify whether you want the output in celcius or kelvin\n"
   ]
  },
  {
   "cell_type": "code",
   "execution_count": 53,
   "metadata": {},
   "outputs": [],
   "source": [
    "def from_fahrenheit(t: float, unit: str) -> float:\n",
    "    \"\"\"Converts temperature values in Kelvin or Celsius to Fahrenheit\n",
    "    t -> Temperature (float)\n",
    "    unit -> Target unit (string)\"\"\"\n",
    "\n",
    "    if unit == \"k\" or unit == \"Kelvin\" or unit == \"K\":\n",
    "        return round((t - 32) / 1.8 + 273.15, 2)\n",
    "    elif unit == \"c\" or unit == \"Celsius\" or unit == \"C\":\n",
    "        return round(((t - 32) / 1.8), 2)"
   ]
  },
  {
   "cell_type": "code",
   "execution_count": 54,
   "metadata": {},
   "outputs": [
    {
     "data": {
      "text/plain": [
       "298.15"
      ]
     },
     "execution_count": 54,
     "metadata": {},
     "output_type": "execute_result"
    }
   ],
   "source": [
    "t = 77\n",
    "from_fahrenheit(t, \"k\")"
   ]
  },
  {
   "cell_type": "markdown",
   "metadata": {},
   "source": [
    "### 5) Write a function that takes two arguments (feet and inches) and returns height in meters. \n",
    "Verify it gives sensible answers\n"
   ]
  },
  {
   "cell_type": "code",
   "execution_count": 57,
   "metadata": {},
   "outputs": [
    {
     "data": {
      "text/plain": [
       "39.98468"
      ]
     },
     "execution_count": 57,
     "metadata": {},
     "output_type": "execute_result"
    }
   ],
   "source": [
    "def height_meters(feet, inches) -> float:\n",
    "    meters = feet * 0.3048 + inches * 0.0254\n",
    "    return meters\n",
    "\n",
    "\n",
    "feet, inches = 65.6, 787\n",
    "height_meters(feet, inches)"
   ]
  },
  {
   "cell_type": "markdown",
   "metadata": {},
   "source": [
    "\n",
    "### 6. Write a function takes one argument (height in meters) and returns two arguments (feet and inches)\n",
    "(Consult the tutorial on numbers if you are stuck on how to implement this.)\n"
   ]
  },
  {
   "cell_type": "code",
   "execution_count": 56,
   "metadata": {},
   "outputs": [
    {
     "data": {
      "text/plain": [
       "(65.61679790026247, 787.4015748031496)"
      ]
     },
     "execution_count": 56,
     "metadata": {},
     "output_type": "execute_result"
    }
   ],
   "source": [
    "def feet_inches(height) -> float:\n",
    "    feet = height / 0.3048\n",
    "    inches = height / 0.0254\n",
    "    return feet, inches\n",
    "\n",
    "\n",
    "meters = 20\n",
    "feet_inches(meters)"
   ]
  },
  {
   "cell_type": "markdown",
   "metadata": {},
   "source": [
    " \n",
    "### 7) Verify that the “round trip” conversion from and back to meters is consistent\n",
    "Check for 3 different values of height in meters"
   ]
  },
  {
   "cell_type": "code",
   "execution_count": 61,
   "metadata": {},
   "outputs": [
    {
     "data": {
      "text/plain": [
       "(3.302, (10.833333333333332, 130.0))"
      ]
     },
     "execution_count": 61,
     "metadata": {},
     "output_type": "execute_result"
    }
   ],
   "source": [
    "height_meters(10, 10), feet_inches(3.302)"
   ]
  }
 ],
 "metadata": {
  "kernelspec": {
   "display_name": "pangeo",
   "language": "python",
   "name": "python3"
  },
  "language_info": {
   "codemirror_mode": {
    "name": "ipython",
    "version": 3
   },
   "file_extension": ".py",
   "mimetype": "text/x-python",
   "name": "python",
   "nbconvert_exporter": "python",
   "pygments_lexer": "ipython3",
   "version": "3.12.5"
  }
 },
 "nbformat": 4,
 "nbformat_minor": 2
}
