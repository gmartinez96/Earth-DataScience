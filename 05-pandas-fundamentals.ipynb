{
 "cells": [
  {
   "cell_type": "markdown",
   "metadata": {},
   "source": [
    "***\n",
    "# Pandas Fundamentals\n",
    "* **Earth Data Science with Python**\n",
    "- **Student:** Gabriel Martinez\n",
    "* **Date:** 19/09/2024\n",
    "***"
   ]
  }
 ],
 "metadata": {
  "language_info": {
   "name": "python"
  }
 },
 "nbformat": 4,
 "nbformat_minor": 2
}
